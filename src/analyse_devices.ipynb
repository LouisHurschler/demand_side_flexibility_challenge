{
 "cells": [
  {
   "cell_type": "code",
   "execution_count": 1,
   "metadata": {},
   "outputs": [],
   "source": [
    "import json\n",
    "import os\n",
    "from pandas import DataFrame as df\n",
    "import pandas as pd\n"
   ]
  },
  {
   "cell_type": "markdown",
   "metadata": {},
   "source": [
    "# read files"
   ]
  },
  {
   "cell_type": "code",
   "execution_count": 2,
   "metadata": {},
   "outputs": [],
   "source": [
    "IMPORT_PATH = \"../data_enflate_cleaned\"\n",
    "filenames = os.listdir(IMPORT_PATH)\n",
    "filenames = [file for file in filenames if file.endswith(\".json\")]\n",
    "filename_list = [IMPORT_PATH + \"/\" + filename for filename in filenames]\n",
    "devices_data = {}\n",
    "for file in filename_list:\n",
    "    device_data = pd.read_json(file)\n",
    "    #print(device_data.head())\n",
    "    devices_data[file] = device_data"
   ]
  },
  {
   "cell_type": "code",
   "execution_count": 3,
   "metadata": {},
   "outputs": [
    {
     "name": "stdout",
     "output_type": "stream",
     "text": [
      "found 4 devices\n",
      "../data_enflate_cleaned/site_6037.json\n",
      "       Device           Timestamp  L1_max_current  L1_min_current  \\\n",
      "12503  Boiler 2024-08-30 00:00:29              76              48   \n",
      "12504  Boiler 2024-08-30 00:00:59              99              48   \n",
      "12505  Boiler 2024-08-30 00:01:29              90              48   \n",
      "12506  Boiler 2024-08-30 00:01:59              85              48   \n",
      "12507  Boiler 2024-08-30 00:02:29              74              51   \n",
      "\n",
      "       relay_state  L1_active_energy_diff  \n",
      "12503            1                      0  \n",
      "12504            1                      0  \n",
      "12505            1                      0  \n",
      "12506            1                      0  \n",
      "12507            1                      0  \n",
      "../data_enflate_cleaned/site_6128.json\n",
      "       Device           Timestamp  L1_max_current  L1_min_current  \\\n",
      "51946  Boiler 2024-08-30 07:19:03              78              42   \n",
      "51947  Boiler 2024-08-30 07:25:03             115              42   \n",
      "51948  Boiler 2024-08-30 07:28:03              76              45   \n",
      "51949  Boiler 2024-08-30 07:29:33              90              42   \n",
      "51950  Boiler 2024-08-30 07:31:03              72               0   \n",
      "\n",
      "       relay_state  L1_active_energy_diff  \n",
      "51946            0                   9832  \n",
      "51947            0                      1  \n",
      "51948            0                      1  \n",
      "51949            1                      0  \n",
      "51950            1                      0  \n",
      "../data_enflate_cleaned/site_7915.json\n",
      "        Device           Timestamp  L1_max_current  L1_min_current  \\\n",
      "115028  Boiler 2024-08-30 00:00:09             123              45   \n",
      "115029  Boiler 2024-08-30 00:00:39             152              45   \n",
      "115030  Boiler 2024-08-30 00:01:09             120              42   \n",
      "115031  Boiler 2024-08-30 00:01:39              85              45   \n",
      "115032  Boiler 2024-08-30 00:02:09              85              45   \n",
      "\n",
      "        relay_state  L1_active_energy_diff  \n",
      "115028            1                      0  \n",
      "115029            1                      0  \n",
      "115030            1                      0  \n",
      "115031            1                      0  \n",
      "115032            1                      0  \n",
      "../data_enflate_cleaned/site_7966.json\n",
      "       Device           Timestamp  L1_max_current  L1_min_current  \\\n",
      "46932  Boiler 2024-08-30 00:00:26             122              48   \n",
      "46933  Boiler 2024-08-30 00:00:56              87              48   \n",
      "46934  Boiler 2024-08-30 00:01:26              90              45   \n",
      "46935  Boiler 2024-08-30 00:01:56              76              48   \n",
      "46936  Boiler 2024-08-30 00:02:26              78              48   \n",
      "\n",
      "       relay_state  L1_active_energy_diff  \n",
      "46932            1                      0  \n",
      "46933            1                      0  \n",
      "46934            1                      1  \n",
      "46935            1                      0  \n",
      "46936            1                      0  \n"
     ]
    }
   ],
   "source": [
    "devices_data_working = {name:d.copy() for name, d in devices_data.items()}\n",
    "devices_data_small = devices_data.copy()\n",
    "#print(devices_data_working.keys())\n",
    "print(f\"found {len(devices_data_working.keys())} devices\")\n",
    "\n",
    "date_limit = pd.Timestamp(\"2024-08-30\")\n",
    "\n",
    "allowed_headers = [\"Device\", \"Timestamp\", \"L1_min_current\", \"L1_max_current\", \"relay_state\", \"L1_active_energy_diff\"]\n",
    "for name, device in devices_data_working.items():\n",
    "    headers = device.columns\n",
    "    #print(headers)\n",
    "\n",
    "    # delete all colums not in headers\n",
    "    for column in device.columns:\n",
    "        if column not in allowed_headers:\n",
    "            del device[column]\n",
    "    \n",
    "    # delete all rows with timestamp <  date_limit\n",
    "    device = device[device[\"Timestamp\"] > date_limit]\n",
    "    print(name)\n",
    "    print(device.head())\n"
   ]
  },
  {
   "cell_type": "markdown",
   "metadata": {},
   "source": [
    "# Calculate KPIs"
   ]
  },
  {
   "cell_type": "markdown",
   "metadata": {},
   "source": [
    "## Anzahl Schaltungen"
   ]
  },
  {
   "cell_type": "code",
   "execution_count": 4,
   "metadata": {},
   "outputs": [],
   "source": [
    "def calculate_switching_count(device_data) -> int:\n",
    "    \"\"\"loop over df and count the number of times the L1_min_voltage differs from L1_max_voltage\"\"\"\n",
    "    switching_count = 0\n",
    "    for index, row in device_data.iterrows():\n",
    "        # diff smaler 1 ampere\n",
    "        if abs(row[\"L1_min_current\"] - row[\"L1_max_current\"]) > 50:\n",
    "            switching_count += 1\n",
    "\n",
    "    # TODO: pmean per day\n",
    "        \n",
    "    return switching_count"
   ]
  },
  {
   "cell_type": "markdown",
   "metadata": {},
   "source": [
    "## respects Rundsteuerung\n",
    "Device stays turned of during the full period"
   ]
  },
  {
   "cell_type": "code",
   "execution_count": 5,
   "metadata": {},
   "outputs": [],
   "source": [
    "def respects_signal(device_data, diff_limit) -> bool:\n",
    "    \"\"\"check if the device respects the signal relay_state\"\"\"\n",
    "\n",
    "    # plot L1_active_energy over time, limit max valuer to 50\n",
    "    # device_data.plot(x=\"Timestamp\", y=\"L1_active_energy_diff\", ylim=(0, 5000))\n",
    "\n",
    "    conflict_count = 0\n",
    "    correct_count = 0\n",
    "    respects_signal = True\n",
    "    for index, row in device_data.iterrows():\n",
    "        if row[\"relay_state\"] == 0 and row[\"L1_active_energy_diff\"] > diff_limit:\n",
    "            conflict_count += 1\n",
    "        if row[\"relay_state\"] == 0 and row[\"L1_active_energy_diff\"] < diff_limit:\n",
    "            correct_count += 1\n",
    "    print(f\"conflict_count: {conflict_count} correct_count: {correct_count} ratio: {conflict_count*100/correct_count}%\")\n",
    "    # tolerating 1% of conflicting\n",
    "    if conflict_count/correct_count > 0.01:\n",
    "        respects_signal = False\n",
    "    return respects_signal\n",
    "\n"
   ]
  },
  {
   "cell_type": "markdown",
   "metadata": {},
   "source": [
    "## react to Rundsteuernung"
   ]
  },
  {
   "cell_type": "code",
   "execution_count": 12,
   "metadata": {},
   "outputs": [],
   "source": [
    "def reacts_to_signal(device_data, device_name):# -> react_count_on_block_count, react_count_on_release_count:\n",
    "    \"\"\"check if the device reacts to a signal\"\"\"\n",
    "\n",
    "    SWITCH_DIFFERENCE = 50\n",
    "\n",
    "    signal_point_0 = 0\n",
    "    signal_point_1 = 0\n",
    "\n",
    "    react_count_on_block_count = 0\n",
    "    react_count_on_release_count = 0\n",
    "\n",
    "    for index, row in device_data.iterrows():\n",
    "\n",
    "        # start not from beginning\n",
    "        if index > 5:\n",
    "            signal_point_1 = row[\"relay_state\"]\n",
    "\n",
    "            # if row[\"Timestamp\"].date() == pd.Timestamp(\"2024-08-31\").date():\n",
    "                # print(f\"device_name {device_name}  {row['Timestamp']} {row['relay_state']} {row['L1_active_energy_diff']}\")\n",
    "            # from now consumption blocked\n",
    "            if signal_point_0 > signal_point_1:\n",
    "                # if date is 31.8.2024 00:00:00\n",
    "\n",
    "                L1_active_energy_diff_minus_2 = device_data.iloc[index - 2][\"L1_active_energy_diff\"]\n",
    "                L1_active_energy_diff_plus_2 = device_data.iloc[index + 2][\"L1_active_energy_diff\"]\n",
    "\n",
    "                # detect cunsumption switch\n",
    "                if ( L1_active_energy_diff_minus_2 - L1_active_energy_diff_plus_2 ) > SWITCH_DIFFERENCE:\n",
    "                    react_count_on_block_count += 1\n",
    "                    # print(f\"device_name {device_name}  {device_data.iloc[index - 2]['Timestamp']}   {device_data.iloc[index - 2]['relay_state']}   {device_data.iloc[index - 2]['L1_active_energy_diff']}\")\n",
    "                    # print(f\"device_name {device_name}  {device_data.iloc[index - 1]['Timestamp']}   {device_data.iloc[index - 1]['relay_state']}   {device_data.iloc[index - 1]['L1_active_energy_diff']}\")\n",
    "                    # print(f\"device_name {device_name}  {device_data.iloc[index - 0]['Timestamp']}   {device_data.iloc[index - 0]['relay_state']}   {device_data.iloc[index - 0]['L1_active_energy_diff']}\")\n",
    "                    # print(f\"device_name {device_name}  {device_data.iloc[index + 1]['Timestamp']}   {device_data.iloc[index + 1]['relay_state']}   {device_data.iloc[index + 1]['L1_active_energy_diff']}\")\n",
    "                    # print(f\"device_name {device_name}  {device_data.iloc[index + 1]['Timestamp']}   {device_data.iloc[index + 1]['relay_state']}   {device_data.iloc[index + 2]['L1_active_energy_diff']}\")\n",
    "                # else:\n",
    "                #     react_count_on_release_count += 1\n",
    "            \n",
    "            # from now cunsomption allowed\n",
    "            elif signal_point_0 < signal_point_1:\n",
    "                L1_active_energy_diff_minus_2 = device_data.iloc[index - 2][\"L1_active_energy_diff\"]\n",
    "                L1_active_energy_diff_plus_2 = device_data.iloc[index - 2][\"L1_active_energy_diff\"]\n",
    "\n",
    "                # detect cunsumption switch\n",
    "                if ( L1_active_energy_diff_plus_2 - L1_active_energy_diff_plus_2 ) > SWITCH_DIFFERENCE:\n",
    "                    react_count_on_release_count += 1\n",
    "                    # print(f\"device_name {device_name}  {device_data.iloc[index - 2]['Timestamp']}   {device_data.iloc[index - 2]['relay_state']}   {device_data.iloc[index - 2]['L1_active_energy_diff']}\")\n",
    "                    # print(f\"device_name {device_name}  {device_data.iloc[index - 1]['Timestamp']}   {device_data.iloc[index - 1]['relay_state']}   {device_data.iloc[index - 1]['L1_active_energy_diff']}\")\n",
    "                    # print(f\"device_name {device_name}  {device_data.iloc[index - 0]['Timestamp']}   {device_data.iloc[index - 0]['relay_state']}   {device_data.iloc[index - 0]['L1_active_energy_diff']}\")\n",
    "                    # print(f\"device_name {device_name}  {device_data.iloc[index + 1]['Timestamp']}   {device_data.iloc[index + 1]['relay_state']}   {device_data.iloc[index + 1]['L1_active_energy_diff']}\")\n",
    "                    # print(f\"device_name {device_name}  {device_data.iloc[index + 1]['Timestamp']}   {device_data.iloc[index + 1]['relay_state']}   {device_data.iloc[index + 2]['L1_active_energy_diff']}\")\n",
    "\n",
    "                # else:\n",
    "                #     react_count_on_release_count += 1\n",
    "\n",
    "        # rollover values\n",
    "        signal_point_0 = signal_point_1\n",
    "    \n",
    "    return react_count_on_block_count, react_count_on_release_count\n",
    "    # # make decision\n",
    "    # if react_count_on_block_count > 0:\n",
    "    #     print(f\"true react_count: {react_count} react_coureact_count_on_block_countnt_on_release_count: {react_count_on_release_count} ratio: {react_count*100/react_count_on_release_count}%\")\n",
    "    #     return True\n",
    "    # else:\n",
    "    #     print(f\"false react_count: {react_count} react_count_on_release_count: {react_count_on_release_count} ratio: {react_count*100/react_count_on_release_count}%\")\n",
    "    #     return False\n",
    "    "
   ]
  },
  {
   "cell_type": "code",
   "execution_count": 13,
   "metadata": {},
   "outputs": [
    {
     "name": "stdout",
     "output_type": "stream",
     "text": [
      " site_6037 PKIs: {'react_count_on_block_count': 2, 'react_count_on_release_count': 0, 'Device': 'Boiler'}\n",
      " site_6128 PKIs: {'react_count_on_block_count': 1, 'react_count_on_release_count': 0, 'Device': 'Boiler'}\n",
      " site_7915 PKIs: {'react_count_on_block_count': 1, 'react_count_on_release_count': 0, 'Device': 'Boiler'}\n",
      " site_7966 PKIs: {'react_count_on_block_count': 1, 'react_count_on_release_count': 0, 'Device': 'Boiler'}\n"
     ]
    }
   ],
   "source": [
    "devices_kpis = {}\n",
    "device_type_kpis = {}\n",
    "diff_limit = 50\n",
    "\n",
    "for device_name, device_data in devices_data_working.items():\n",
    "    device_kpis = {}\n",
    "    #device_kpis[\"switching_count\"] = calculate_switching_count(device_data)\n",
    "    #device_kpis[\"respects_signal\"] = respects_signal(device_data, diff_limit)\n",
    "    #if device_name == '../data_enflate_cleaned/site_6128.json':\n",
    "\n",
    "    # Rundsteuerung reaction\n",
    "    react_count_on_block_count, react_count_on_release_count = reacts_to_signal(device_data, device_name)\n",
    "    device_kpis[\"react_count_on_block_count\"] = react_count_on_block_count\n",
    "    device_kpis[\"react_count_on_release_count\"] = react_count_on_release_count\n",
    "\n",
    "    # Device type\n",
    "    device_kpis[\"Device\"] = device_data[\"Device\"].iloc[0]\n",
    "\n",
    "\n",
    "    short_device_name = device_name.split(\"/\")[-1].split(\".\")[0]\n",
    "    # Print KPIs\n",
    "    devices_kpis[short_device_name] = device_kpis\n",
    "    print (f\" {short_device_name} PKIs: {device_kpis}\")\n",
    "\n",
    "    if device_kpis[\"Device\"] not in device_type_kpis:\n",
    "        device_type_kpis[device_kpis[\"Device\"]] = {}\n",
    "    if \"react_count_on_block_count_values\" not in device_type_kpis[device_kpis[\"Device\"]]:\n",
    "        device_type_kpis[device_kpis[\"Device\"]][\"react_count_on_block_count_values\"] = []\n",
    "    device_type_kpis[device_kpis[\"Device\"]][\"react_count_on_block_count_values\"].append(device_kpis[\"react_count_on_block_count\"])\n",
    "    if \"react_count_on_release_count_values\" not in device_type_kpis[device_kpis[\"Device\"]]:\n",
    "        device_type_kpis[device_kpis[\"Device\"]][\"react_count_on_release_count_values\"] = []\n",
    "    device_type_kpis[device_kpis[\"Device\"]][\"react_count_on_release_count_values\"].append(device_kpis[\"react_count_on_release_count\"])\n",
    "    \n",
    "    # plot L1_min_voltage and L1_max_voltage\n",
    "    # device_data.plot(x='Timestamp', y=['L1_min_current', 'L1_max_current'])\n",
    "\n",
    "\n",
    "    "
   ]
  },
  {
   "cell_type": "markdown",
   "metadata": {},
   "source": [
    "# Print statistics\n"
   ]
  },
  {
   "cell_type": "code",
   "execution_count": 14,
   "metadata": {},
   "outputs": [
    {
     "name": "stdout",
     "output_type": "stream",
     "text": [
      "Per device KPIs\n",
      "----------------\n",
      "{\n",
      "    \"site_6037\": {\n",
      "        \"Device\": \"Boiler\",\n",
      "        \"react_count_on_block_count\": 2,\n",
      "        \"react_count_on_release_count\": 0\n",
      "    },\n",
      "    \"site_6128\": {\n",
      "        \"Device\": \"Boiler\",\n",
      "        \"react_count_on_block_count\": 1,\n",
      "        \"react_count_on_release_count\": 0\n",
      "    },\n",
      "    \"site_7915\": {\n",
      "        \"Device\": \"Boiler\",\n",
      "        \"react_count_on_block_count\": 1,\n",
      "        \"react_count_on_release_count\": 0\n",
      "    },\n",
      "    \"site_7966\": {\n",
      "        \"Device\": \"Boiler\",\n",
      "        \"react_count_on_block_count\": 1,\n",
      "        \"react_count_on_release_count\": 0\n",
      "    }\n",
      "}\n",
      "\n",
      "Per device type KPIs\n",
      "----------------\n",
      "{\n",
      "    \"Boiler\": {\n",
      "        \"react_count_on_block_count_values\": [\n",
      "            2,\n",
      "            1,\n",
      "            1,\n",
      "            1\n",
      "        ],\n",
      "        \"react_count_on_release_count_values\": [\n",
      "            0,\n",
      "            0,\n",
      "            0,\n",
      "            0\n",
      "        ]\n",
      "    }\n",
      "}\n"
     ]
    }
   ],
   "source": [
    "\n",
    "print(\"Per device type KPIs\")\n",
    "print(\"----------------\")\n",
    "print ( json.dumps( device_type_kpis, indent=4, sort_keys=True) )\n",
    "\n",
    "print(\"\")\n",
    "print(\"Per device KPIs\")\n",
    "print(\"----------------\")\n",
    "print ( json.dumps( devices_kpis, indent=4, sort_keys=True) )\n",
    "\n"
   ]
  }
 ],
 "metadata": {
  "kernelspec": {
   "display_name": "scikit_learn",
   "language": "python",
   "name": "python3"
  },
  "language_info": {
   "codemirror_mode": {
    "name": "ipython",
    "version": 3
   },
   "file_extension": ".py",
   "mimetype": "text/x-python",
   "name": "python",
   "nbconvert_exporter": "python",
   "pygments_lexer": "ipython3",
   "version": "3.12.4"
  }
 },
 "nbformat": 4,
 "nbformat_minor": 2
}
