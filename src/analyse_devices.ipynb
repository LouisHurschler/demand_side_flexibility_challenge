{
 "cells": [
  {
   "cell_type": "code",
   "execution_count": 1,
   "metadata": {},
   "outputs": [],
   "source": [
    "import json\n",
    "import os\n",
    "from pandas import DataFrame as df\n",
    "import pandas as pd\n"
   ]
  },
  {
   "cell_type": "markdown",
   "metadata": {},
   "source": [
    "# read files"
   ]
  },
  {
   "cell_type": "code",
   "execution_count": 3,
   "metadata": {},
   "outputs": [],
   "source": [
    "IMPORT_PATH = \"../data_enflate_cleaned\"\n",
    "filenames = os.listdir(IMPORT_PATH)\n",
    "filenames = [file for file in filenames if file.endswith(\".json\")]\n",
    "filename_list = [IMPORT_PATH + \"/\" + filename for filename in filenames]\n",
    "devices_data = {}\n",
    "for file in filename_list:\n",
    "    device_data = pd.read_json(file)\n",
    "    #print(device_data.head())\n",
    "    devices_data[file] = device_data"
   ]
  },
  {
   "cell_type": "code",
   "execution_count": 12,
   "metadata": {},
   "outputs": [
    {
     "name": "stdout",
     "output_type": "stream",
     "text": [
      "found 52 devices\n"
     ]
    }
   ],
   "source": [
    "devices_data_working = devices_data.copy()\n",
    "devices_data_small = devices_data.copy()\n",
    "#print(devices_data_working.keys())\n",
    "print(f\"found {len(devices_data_working.keys())} devices\")\n",
    "\n",
    "headers = [\"Device\", \"Timestamp\", \"L1_min_current\", \"L1_max_current\", \"relay_state\"]\n",
    "for device in devices_data_working.values():\n",
    "    headers = device.columns\n",
    "    # delete all colums not in headers\n",
    "    for column in device.columns:\n",
    "        if column not in headers:\n",
    "            device.drop(column, axis=1, inplace=True)\n"
   ]
  },
  {
   "cell_type": "markdown",
   "metadata": {},
   "source": [
    "# Calculate KPIs"
   ]
  },
  {
   "cell_type": "code",
   "execution_count": 13,
   "metadata": {},
   "outputs": [
    {
     "name": "stdout",
     "output_type": "stream",
     "text": [
      "1\n"
     ]
    }
   ],
   "source": [
    "devices_kpis = {}\n",
    "\n",
    "# for device_name, device_data in devices_data_working.items():\n",
    "#     device_kpis = {}\n",
    "#     device_kpis[\"switching_count\"] = calculate_switching_count(device_data)\n",
    "#     devices_kpis[device_name] = device_kpis\n",
    "\n",
    "# device_data = devices_data_small[filename_list[0]]\n",
    "# def calculate_switching_count(device_data) -> int:\n",
    "#     \"\"\"loop over df and count the number of times the L1_min_voltage differs from L1_max_voltage\"\"\"\n",
    "#     switching_count = 0\n",
    "#     for index, row in device_data.iterrows():\n",
    "#         # diff smaler 10 volts\n",
    "#         if abs(row[\"L1_min_voltage\"] - row[\"L1_max_voltage\"]) > 10000:\n",
    "#             switching_count += 1\n",
    "#     return switching_count\n",
    "# print (calculate_switching_count(device_data))\n"
   ]
  }
 ],
 "metadata": {
  "kernelspec": {
   "display_name": "scikit_learn",
   "language": "python",
   "name": "python3"
  },
  "language_info": {
   "codemirror_mode": {
    "name": "ipython",
    "version": 3
   },
   "file_extension": ".py",
   "mimetype": "text/x-python",
   "name": "python",
   "nbconvert_exporter": "python",
   "pygments_lexer": "ipython3",
   "version": "3.12.4"
  }
 },
 "nbformat": 4,
 "nbformat_minor": 2
}
